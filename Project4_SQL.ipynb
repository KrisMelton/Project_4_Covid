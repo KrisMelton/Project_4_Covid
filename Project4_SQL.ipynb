{
 "cells": [
  {
   "cell_type": "code",
   "execution_count": 10,
   "id": "f8d87e2f-2a99-4798-bf78-b755bc963507",
   "metadata": {},
   "outputs": [],
   "source": [
    "import pandas as pd\n",
    "from sqlalchemy import create_engine, text"
   ]
  },
  {
   "cell_type": "code",
   "execution_count": 12,
   "id": "945e071b-eb51-4043-b8f1-12c57c74fb3c",
   "metadata": {},
   "outputs": [],
   "source": [
    "# Step 1: Create a database engine\n",
    "engine = create_engine('sqlite:///covid19_data.db')"
   ]
  },
  {
   "cell_type": "code",
   "execution_count": 13,
   "id": "99b9b327-58a5-40f6-8eab-4ea258de90df",
   "metadata": {},
   "outputs": [],
   "source": [
    "# Step 2: Read the CSV file\n",
    "# Replace absolute path with relative one \n",
    "\n",
    "df = pd.read_csv('/Users/alliejenkins/Downloads/WHO-COVID-19-global-data.csv')"
   ]
  },
  {
   "cell_type": "code",
   "execution_count": 14,
   "id": "79fb01b1-1c91-45af-b22e-5bf534dd418f",
   "metadata": {},
   "outputs": [
    {
     "data": {
      "text/plain": [
       "57600"
      ]
     },
     "execution_count": 14,
     "metadata": {},
     "output_type": "execute_result"
    }
   ],
   "source": [
    "# Step 3: Load data into SQL table\n",
    "df.to_sql('covid19_global_data', con=engine, if_exists='replace', index=False)"
   ]
  },
  {
   "cell_type": "code",
   "execution_count": 15,
   "id": "8db4ec7e-29ff-45fc-82e8-056e426aab42",
   "metadata": {},
   "outputs": [
    {
     "name": "stdout",
     "output_type": "stream",
     "text": [
      "('2020-01-05', 'AF', 'Afghanistan', 'EMRO', None, 0, None, 0)\n",
      "('2020-01-12', 'AF', 'Afghanistan', 'EMRO', None, 0, None, 0)\n",
      "('2020-01-19', 'AF', 'Afghanistan', 'EMRO', None, 0, None, 0)\n",
      "('2020-01-26', 'AF', 'Afghanistan', 'EMRO', None, 0, None, 0)\n",
      "('2020-02-02', 'AF', 'Afghanistan', 'EMRO', None, 0, None, 0)\n"
     ]
    }
   ],
   "source": [
    "# Step 4: Verify the data using a connection and text() for raw SQL\n",
    "with engine.connect() as connection:\n",
    "    result = connection.execute(text(\"SELECT * FROM covid19_global_data LIMIT 5\"))\n",
    "    for row in result:\n",
    "        print(row)"
   ]
  },
  {
   "cell_type": "code",
   "execution_count": null,
   "id": "5724fa00-5e44-41f5-bdfe-a8c387ae3a08",
   "metadata": {},
   "outputs": [],
   "source": []
  }
 ],
 "metadata": {
  "kernelspec": {
   "display_name": "Python 3 (ipykernel)",
   "language": "python",
   "name": "python3"
  },
  "language_info": {
   "codemirror_mode": {
    "name": "ipython",
    "version": 3
   },
   "file_extension": ".py",
   "mimetype": "text/x-python",
   "name": "python",
   "nbconvert_exporter": "python",
   "pygments_lexer": "ipython3",
   "version": "3.11.7"
  }
 },
 "nbformat": 4,
 "nbformat_minor": 5
}
